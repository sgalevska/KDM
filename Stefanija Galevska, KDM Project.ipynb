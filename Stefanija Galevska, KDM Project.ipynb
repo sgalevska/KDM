{
  "nbformat": 4,
  "nbformat_minor": 0,
  "metadata": {
    "colab": {
      "name": "KDM final.ipynb",
      "provenance": [],
      "collapsed_sections": []
    },
    "kernelspec": {
      "name": "python3",
      "display_name": "Python 3"
    },
    "language_info": {
      "name": "python"
    }
  },
  "cells": [
    {
      "cell_type": "markdown",
      "source": [
        "# **NumberMind**\n",
        "\n",
        "Installing all necessary libraries and imports."
      ],
      "metadata": {
        "id": "86sd3ib0zWof"
      }
    },
    {
      "cell_type": "code",
      "execution_count": 1,
      "metadata": {
        "colab": {
          "base_uri": "https://localhost:8080/"
        },
        "id": "lEwYfgnmmqBC",
        "outputId": "6ce4d50d-96a3-4408-da40-118b6969802f"
      },
      "outputs": [
        {
          "output_type": "stream",
          "name": "stdout",
          "text": [
            "Looking in indexes: https://pypi.org/simple, https://us-python.pkg.dev/colab-wheels/public/simple/\n",
            "Collecting python-sat\n",
            "  Downloading python_sat-0.1.7.dev19-cp37-cp37m-manylinux2010_x86_64.whl (1.8 MB)\n",
            "\u001b[K     |████████████████████████████████| 1.8 MB 13.7 MB/s \n",
            "\u001b[?25hRequirement already satisfied: six in /usr/local/lib/python3.7/dist-packages (from python-sat) (1.15.0)\n",
            "Installing collected packages: python-sat\n",
            "Successfully installed python-sat-0.1.7.dev19\n"
          ]
        }
      ],
      "source": [
        "! pip install python-sat"
      ]
    },
    {
      "cell_type": "code",
      "source": [
        "import numpy as np\n",
        "import itertools\n",
        "np.random.seed(123)"
      ],
      "metadata": {
        "id": "WDkPdw6Umzx6"
      },
      "execution_count": 2,
      "outputs": []
    },
    {
      "cell_type": "code",
      "source": [
        "from pysat.solvers import Minisat22"
      ],
      "metadata": {
        "id": "yiiw9Pe03nvF"
      },
      "execution_count": 3,
      "outputs": []
    },
    {
      "cell_type": "markdown",
      "source": [
        "Firstly we generate a secret code which is the main focus of the game. The master selects a secret code and the player is the one who is supposed to guess it. In our case, the machine is playing a NumberMind game againsts itself. \n"
      ],
      "metadata": {
        "id": "EulStIKOm_2t"
      }
    },
    {
      "cell_type": "code",
      "source": [
        "#We create a function for the secret code\n",
        "\n",
        "def secret_code(n):\n",
        "  secret_code=[]\n",
        "  for i in range(n):\n",
        "    secret_code.append(np.random.randint(0,10))\n",
        "\n",
        "  #return secret_code\n",
        "  return np.array(secret_code)\n",
        "\n",
        "\n",
        "#We create a function that generates a random guess to be our first guess. It is okay for it to be random because it is the first trial and from there we continue.\n",
        "\n",
        "def first_guess(n):\n",
        "  return np.array([np.random.randint(0,10) for i in range(n)])\n",
        "\n",
        "code=secret_code(10)\n",
        "\n",
        "code\n"
      ],
      "metadata": {
        "colab": {
          "base_uri": "https://localhost:8080/"
        },
        "id": "RZQee8LknMCK",
        "outputId": "d3dd14b0-1d3e-4e2f-8d2f-69a41e8a91f8"
      },
      "execution_count": 4,
      "outputs": [
        {
          "output_type": "execute_result",
          "data": {
            "text/plain": [
              "array([2, 2, 6, 1, 3, 9, 6, 1, 0, 1])"
            ]
          },
          "metadata": {},
          "execution_count": 4
        }
      ]
    },
    {
      "cell_type": "markdown",
      "source": [
        "Following we create a function that returns information on the correctly guessed digits of the guessing code. We consider that the digit is correct only if it is in the exact position w.r.t the secret code."
      ],
      "metadata": {
        "id": "uqfXtNyfT-wr"
      }
    },
    {
      "cell_type": "code",
      "source": [
        "def check(code, guess):\n",
        "  guess=np.array(guess)\n",
        "  k=0\n",
        "  for i in range(code.shape[0]):\n",
        "    if guess[i]==code[i]:\n",
        "      k=k+1\n",
        "\n",
        "  return k"
      ],
      "metadata": {
        "id": "2nL8wtSuUZ47"
      },
      "execution_count": 5,
      "outputs": []
    },
    {
      "cell_type": "markdown",
      "source": [
        "Function to encode with propositional language notation the 10*n propositional variables that make our secret code."
      ],
      "metadata": {
        "id": "1jaLOWzeVHbm"
      }
    },
    {
      "cell_type": "code",
      "source": [
        "def language (n):\n",
        "  p=dict()\n",
        "  x=0\n",
        "  for i in range(n):\n",
        "    for j in range(10):\n",
        "      x+=1\n",
        "      p[i,j]=x\n",
        "\n",
        "  return p"
      ],
      "metadata": {
        "id": "xWrvG4_mVf3b"
      },
      "execution_count": 6,
      "outputs": []
    },
    {
      "cell_type": "code",
      "source": [
        "p = language(5)"
      ],
      "metadata": {
        "id": "mRzFlrKNVA8_"
      },
      "execution_count": 7,
      "outputs": []
    },
    {
      "cell_type": "code",
      "source": [
        "p"
      ],
      "metadata": {
        "colab": {
          "base_uri": "https://localhost:8080/"
        },
        "id": "Iezf0W13WboT",
        "outputId": "17444b49-b619-4d42-951f-84c4ac0cb855"
      },
      "execution_count": 8,
      "outputs": [
        {
          "output_type": "execute_result",
          "data": {
            "text/plain": [
              "{(0, 0): 1,\n",
              " (0, 1): 2,\n",
              " (0, 2): 3,\n",
              " (0, 3): 4,\n",
              " (0, 4): 5,\n",
              " (0, 5): 6,\n",
              " (0, 6): 7,\n",
              " (0, 7): 8,\n",
              " (0, 8): 9,\n",
              " (0, 9): 10,\n",
              " (1, 0): 11,\n",
              " (1, 1): 12,\n",
              " (1, 2): 13,\n",
              " (1, 3): 14,\n",
              " (1, 4): 15,\n",
              " (1, 5): 16,\n",
              " (1, 6): 17,\n",
              " (1, 7): 18,\n",
              " (1, 8): 19,\n",
              " (1, 9): 20,\n",
              " (2, 0): 21,\n",
              " (2, 1): 22,\n",
              " (2, 2): 23,\n",
              " (2, 3): 24,\n",
              " (2, 4): 25,\n",
              " (2, 5): 26,\n",
              " (2, 6): 27,\n",
              " (2, 7): 28,\n",
              " (2, 8): 29,\n",
              " (2, 9): 30,\n",
              " (3, 0): 31,\n",
              " (3, 1): 32,\n",
              " (3, 2): 33,\n",
              " (3, 3): 34,\n",
              " (3, 4): 35,\n",
              " (3, 5): 36,\n",
              " (3, 6): 37,\n",
              " (3, 7): 38,\n",
              " (3, 8): 39,\n",
              " (3, 9): 40,\n",
              " (4, 0): 41,\n",
              " (4, 1): 42,\n",
              " (4, 2): 43,\n",
              " (4, 3): 44,\n",
              " (4, 4): 45,\n",
              " (4, 5): 46,\n",
              " (4, 6): 47,\n",
              " (4, 7): 48,\n",
              " (4, 8): 49,\n",
              " (4, 9): 50}"
            ]
          },
          "metadata": {},
          "execution_count": 8
        }
      ]
    },
    {
      "cell_type": "markdown",
      "source": [
        "For the purpose of doing propositional language decoding, we create a function that starting from a model returned by SAT turns it into a guess, so into a sequence of integers. Before doing this we need to create a key associated to the values in a dictionary. We do this by making a function to get the key. "
      ],
      "metadata": {
        "id": "UZK26HbrWhmH"
      }
    },
    {
      "cell_type": "code",
      "source": [
        "def get_key(d,val):\n",
        "  for key, value in d.items():\n",
        "    if val==value:\n",
        "      return key\n",
        "\n",
        "  return \"key is not found\""
      ],
      "metadata": {
        "id": "BoHhYJMsWcNC"
      },
      "execution_count": 9,
      "outputs": []
    },
    {
      "cell_type": "code",
      "source": [
        "def decoding(model):\n",
        "  pos=[]\n",
        "  for i in range(len(model)):\n",
        "    if model[i]>0:\n",
        "      pos.append(get_key(p,model[i]))\n",
        "#To generate the sequence we have to put the positions (i,j) in ascending order w.r.t the j index \n",
        "  sequence=np.array([pos[i][1] for i in range(len(pos))])\n",
        "\n",
        "  return sequence"
      ],
      "metadata": {
        "id": "Xp4Q1d8HXmMk"
      },
      "execution_count": 10,
      "outputs": []
    },
    {
      "cell_type": "code",
      "source": [
        "def half_decode(guess):\n",
        "  pos=[]\n",
        "  for i in range(len(guess)):\n",
        "    pos.append([i, guess[i]])\n",
        "  return pos"
      ],
      "metadata": {
        "id": "oZjK-mIiY40s"
      },
      "execution_count": 11,
      "outputs": []
    },
    {
      "cell_type": "code",
      "source": [
        "half_decode([1,2,3,4])"
      ],
      "metadata": {
        "colab": {
          "base_uri": "https://localhost:8080/"
        },
        "id": "dbwqbTbxX6x7",
        "outputId": "8a29171d-19e5-41dc-b6f5-d510a625d24c"
      },
      "execution_count": 12,
      "outputs": [
        {
          "output_type": "execute_result",
          "data": {
            "text/plain": [
              "[[0, 1], [1, 2], [2, 3], [3, 4]]"
            ]
          },
          "metadata": {},
          "execution_count": 12
        }
      ]
    },
    {
      "cell_type": "markdown",
      "source": [
        "Function for defining the clauses. "
      ],
      "metadata": {
        "id": "Ow0YbQutZOKm"
      }
    },
    {
      "cell_type": "code",
      "source": [
        "def clauses(n):\n",
        "  y=Minisat22()\n",
        "  #At least one \n",
        "  for i in range(n):\n",
        "    y.add_clause([p[i,j] for j in range(10)])\n",
        "  #At most one \n",
        "  for i in range(n):\n",
        "    for j in range(10):\n",
        "      for k in range(j+1, 10):\n",
        "        y.add_clause([-p[i,j], -p[i,k]])\n",
        "\n",
        "  return y"
      ],
      "metadata": {
        "id": "c_E5KM-mZrYY"
      },
      "execution_count": 13,
      "outputs": []
    },
    {
      "cell_type": "code",
      "source": [
        "#To check\n",
        "\n",
        "y=clauses(5)\n",
        "y.solve()"
      ],
      "metadata": {
        "colab": {
          "base_uri": "https://localhost:8080/"
        },
        "id": "rYKhsqZTacxd",
        "outputId": "146f1693-9185-4347-e888-729df1e957ea"
      },
      "execution_count": 14,
      "outputs": [
        {
          "output_type": "execute_result",
          "data": {
            "text/plain": [
              "True"
            ]
          },
          "metadata": {},
          "execution_count": 14
        }
      ]
    },
    {
      "cell_type": "code",
      "source": [
        "k = 0\n",
        "for m in y.enum_models():\n",
        "  k=k+1\n",
        "\n",
        "print(\"Number of possible codes: \" + str(k))"
      ],
      "metadata": {
        "id": "umxE063hareC",
        "colab": {
          "base_uri": "https://localhost:8080/"
        },
        "outputId": "55f6e8e5-f2bc-4aef-8f42-e430fc93b462"
      },
      "execution_count": 15,
      "outputs": [
        {
          "output_type": "stream",
          "name": "stdout",
          "text": [
            "Number of possible codes: 100000\n"
          ]
        }
      ]
    },
    {
      "cell_type": "markdown",
      "source": [
        "Generating the new code\n",
        "\n",
        "After a code guess we get a feedback in the form : \"k correct digits\" with (0<= k <= n).\n",
        "- The first guess is generated at random and satisfies only the clauses.\n",
        "- If k=n we have guessed correctly the secret code and the game is over.\n",
        "- If 0 < k < n-1 instead we have to exploit the feedback obtained to generate a new guess. We have to add the constraints \"exactly k are true\" on the propositional variables selected by our code guess."
      ],
      "metadata": {
        "id": "30SxKwX-a7gL"
      }
    },
    {
      "cell_type": "code",
      "source": [
        "#function for subsets generation\n",
        "def findsubsets(s,n):\n",
        "  return list(itertools.combinations(s,n))"
      ],
      "metadata": {
        "id": "Z7DgXJJUb0lW"
      },
      "execution_count": 16,
      "outputs": []
    },
    {
      "cell_type": "code",
      "source": [
        "def generate (guess,idx):\n",
        "  #guess gives k=n-1\n",
        "  #idx is all the possible codes changing the number in index idx in guess\n",
        "  list_guesses=[]\n",
        "  for i in range(10):\n",
        "    if guess[idx] == i: #in this case we are regenerating the starting guess that we know has 1 error so we skip it \n",
        "      continue \n",
        "    lg=list(guess)\n",
        "    lg1=lg[:idx]\n",
        "    lg1.append(i)\n",
        "    lg2=lg1+lg[idx+1:]\n",
        "    list_guesses.append(lg2)\n",
        "\n",
        "  return list_guesses\n",
        "\n",
        "generate(np.array([0,2,3]),0)"
      ],
      "metadata": {
        "colab": {
          "base_uri": "https://localhost:8080/"
        },
        "id": "h0wEOwiCb99Y",
        "outputId": "3f9ff8e0-66d4-4ed3-a9b8-25a6d827217c"
      },
      "execution_count": 17,
      "outputs": [
        {
          "output_type": "execute_result",
          "data": {
            "text/plain": [
              "[[1, 2, 3],\n",
              " [2, 2, 3],\n",
              " [3, 2, 3],\n",
              " [4, 2, 3],\n",
              " [5, 2, 3],\n",
              " [6, 2, 3],\n",
              " [7, 2, 3],\n",
              " [8, 2, 3],\n",
              " [9, 2, 3]]"
            ]
          },
          "metadata": {},
          "execution_count": 17
        }
      ]
    },
    {
      "cell_type": "markdown",
      "source": [
        "Implement the Game"
      ],
      "metadata": {
        "id": "R-K2OwJNdviP"
      }
    },
    {
      "cell_type": "code",
      "source": [
        "num_it_ex=[]\n",
        "for i in range(1):\n",
        "  print()\n",
        "  print('############## WELCOME TO NUMBER MIND GAME ################')\n",
        "  print()\n",
        "  ndig=int(input(\"Insert a number of digits to play with: \"))\n",
        "  code=secret_code(ndig)\n",
        "  print('Secret code ' +str(code))\n",
        "  print('Try to guess the secret code: ')\n",
        "  p = language(ndig)\n",
        "  y=clauses(ndig)\n",
        "  num_it=0\n",
        "  max_it=500\n",
        "  guess=first_guess(ndig)\n",
        "  k=check(code, guess)\n",
        "  print('Guess ' + str(num_it) + \": \" + str(guess) + ' -> ' + str(k) + ' correct digits, try again!')\n",
        "  flag=False\n",
        "  flag1=False\n",
        "  while(True):\n",
        "    if num_it==max_it:\n",
        "      print('Too much iterations')\n",
        "      break\n",
        "\n",
        "    if k==ndig:\n",
        "      print()\n",
        "      print('############################# WOW, YOU WON! #########################')\n",
        "      print()\n",
        "      print('You did it in ' + str(num_it) + ' tries ')\n",
        "      num_it_ex.append(num_it)\n",
        "      break\n",
        "\n",
        "    elif k==0 and flag1==False:\n",
        "      guess=first_guess(ndig)\n",
        "      k=check(code,guess)\n",
        "      print('Guess ' + str(num_it+1) + \": \" + str(guess) + ' -> ' + str(k) + ' correct digits, try again!')\n",
        "\n",
        "\n",
        "    elif k==0 and flag1==True:\n",
        "      j=0\n",
        "      for m in y.enum_models():\n",
        "        if j==1:\n",
        "          break\n",
        "        guess=np.array(decoding(m))\n",
        "        j=j+1\n",
        "\n",
        "      k=check(code,guess)\n",
        "      print('Guess ' + str(num_it+1) + \": \" + str(guess) + ' -> ' + str(k) + ' correct digits, try again!')\n",
        "\n",
        "\n",
        "    elif k==ndig-1:\n",
        "      #save the guess that makes k=n-1 in the variable guess_n1\n",
        "         guess_n1=guess\n",
        "         for i in range(ndig):\n",
        "           if k==ndig:\n",
        "             flag=True\n",
        "             break \n",
        "           l_guess=generate(guess_n1,i)\n",
        "           for j in range(len(l_guess)):\n",
        "            guess=l_guess[j]\n",
        "            k=check(code, guess)\n",
        "            print('Guess ' +str(num_it+1) + ': ' + str(np.array(guess)) + ' -> ' + str(k) + ' correct digits, try again!')\n",
        "            if k<ndig-1:\n",
        "               num_it=num_it+1\n",
        "               break \n",
        "            if k == ndig:\n",
        "               break\n",
        "            num_it=num_it+1\n",
        "\n",
        "    elif k==ndig or flag==True:\n",
        "              print()\n",
        "              print('############################# WOW, YOU WON! #########################')\n",
        "              print()\n",
        "\n",
        "              print('You did it in ' + str(num_it-1) + ' tries')\n",
        "              num_it_ex.append(num_it)\n",
        "              break\n",
        "\n",
        "    else: \n",
        "              flag1=True\n",
        "              #at least k true\n",
        "              #subsets od n-k+1 variables\n",
        "              sub=findsubsets(half_decode(guess),ndig-k+1) #this sub should be a list of list\n",
        "              for l in sub:\n",
        "                y.add_clause([(p[tuple(i)]) for i in l])\n",
        "\n",
        "              #at most k true\n",
        "              sub1=findsubsets(half_decode(guess),k+1)  \n",
        "              for l1 in sub1:\n",
        "                y.add_clause([(-p[tuple(i)]) for i in l1])\n",
        "\n",
        "\n",
        "              j=0\n",
        "              for m in y.enum_models():\n",
        "                if j==1:\n",
        "                  break\n",
        "                guess=np.array(decoding(m))\n",
        "                j=j+1\n",
        "\n",
        "              k=check(code,guess)\n",
        "              print('Guess ' +str(num_it+1) + ': ' + str(np.array(guess)) + ' -> ' + str(k) + ' correct digits, try again!')\n",
        "\n",
        "    num_it=num_it+1   \n",
        "\n",
        "\n",
        "      \n",
        "\n",
        "\n",
        "\n"
      ],
      "metadata": {
        "colab": {
          "base_uri": "https://localhost:8080/"
        },
        "id": "0REb1rCId3Hi",
        "outputId": "6b569946-9e4a-405e-caf7-780d6549aa59"
      },
      "execution_count": 20,
      "outputs": [
        {
          "output_type": "stream",
          "name": "stdout",
          "text": [
            "\n",
            "############## WELCOME TO NUMBER MIND GAME ################\n",
            "\n",
            "Insert a number of digits to play with: 5\n",
            "Secret code [9 3 4 6 1]\n",
            "Try to guess the secret code: \n",
            "Guess 0: [5 6 2 1 8] -> 0 correct digits, try again!\n",
            "Guess 1: [3 5 0 2 6] -> 0 correct digits, try again!\n",
            "Guess 2: [2 4 4 6 3] -> 2 correct digits, try again!\n",
            "Guess 3: [2 4 0 0 0] -> 0 correct digits, try again!\n",
            "Guess 4: [2 4 0 1 1] -> 1 correct digits, try again!\n",
            "Guess 5: [2 2 4 8 7] -> 1 correct digits, try again!\n",
            "Guess 6: [2 0 5 0 3] -> 0 correct digits, try again!\n",
            "Guess 7: [2 3 9 0 3] -> 1 correct digits, try again!\n",
            "Guess 8: [5 8 4 1 3] -> 1 correct digits, try again!\n",
            "Guess 9: [6 4 4 0 9] -> 1 correct digits, try again!\n",
            "Guess 10: [0 4 5 8 3] -> 0 correct digits, try again!\n",
            "Guess 11: [3 4 1 8 3] -> 0 correct digits, try again!\n",
            "Guess 12: [0 4 7 8 3] -> 0 correct digits, try again!\n",
            "Guess 13: [3 4 2 8 3] -> 0 correct digits, try again!\n",
            "Guess 14: [0 4 6 8 3] -> 0 correct digits, try again!\n",
            "Guess 15: [3 4 8 8 3] -> 0 correct digits, try again!\n",
            "Guess 16: [4 4 5 8 3] -> 0 correct digits, try again!\n",
            "Guess 17: [1 4 5 8 3] -> 0 correct digits, try again!\n",
            "Guess 18: [7 4 5 8 3] -> 0 correct digits, try again!\n",
            "Guess 19: [8 4 1 8 3] -> 0 correct digits, try again!\n",
            "Guess 20: [7 4 1 8 3] -> 0 correct digits, try again!\n",
            "Guess 21: [4 4 2 8 3] -> 0 correct digits, try again!\n",
            "Guess 22: [9 4 2 8 3] -> 1 correct digits, try again!\n",
            "Guess 23: [5 4 9 6 7] -> 1 correct digits, try again!\n",
            "Guess 24: [9 3 4 6 1] -> 5 correct digits, try again!\n",
            "\n",
            "############################# WOW, YOU WON! #########################\n",
            "\n",
            "You did it in 24 tries \n"
          ]
        }
      ]
    }
  ]
}